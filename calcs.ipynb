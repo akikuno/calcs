{
 "cells": [
  {
   "cell_type": "code",
   "execution_count": 21,
   "id": "66caa5c1-eb2f-43a8-bbc0-d9861d9d84a6",
   "metadata": {},
   "outputs": [],
   "source": [
    "import re\n",
    "import subprocess\n",
    "from itertools import compress\n",
    "import numpy as np"
   ]
  },
  {
   "cell_type": "code",
   "execution_count": 6,
   "id": "b6b6e96f-181f-41dc-960d-af32f65a8a60",
   "metadata": {},
   "outputs": [
    {
     "name": "stdout",
     "output_type": "stream",
     "text": [
      "Before =========================\n",
      "@SQ\tSN:random_100bp\tLN:100\n",
      "@PG\tID:minimap2\tPN:minimap2\tVN:2.22-r1101\tCL:minimap2 -ax map-ont tests/random_100bp.fa tests/deletion/del.fq\n",
      "control\t0\trandom_100bp\t1\t60\t100M\t*\t0\t0\tACTGTGCGGCATACTTAATTATACATTTGAAACGCGCCCAAGTGACGCTAGGCAAGTCAGAGCAGGTTCCCGTGTTAGCTTAAGGGTAAACATACAAGTC\t!!!!!!!!!!!!!!!!!!!!!!!!!!!!!!!!!!!!!!!!!!!!!!!!!!!!!!!!!!!!!!!!!!!!!!!!!!!!!!!!!!!!!!!!!!!!!!!!!!!!\tNM:i:0\tms:i:200\tAS:i:200\tnn:i:0\ttp:A:P\tcm:i:15\ts1:i:95\ts2:i:0\tde:f:0\trl:i:0\n",
      "del-10nt\t0\trandom_100bp\t1\t60\t39M10D51M\t*\t0\t0\tACTGTGCGGCATACTTAATTATACATTTGAAACGCGCCCAGGCAAGTCAGAGCAGGTTCCCGTGTTAGCTTAAGGGTAAACATACAAGTC\t!!!!!!!!!!!!!!!!!!!!!!!!!!!!!!!!!!!!!!!!!!!!!!!!!!!!!!!!!!!!!!!!!!!!!!!!!!!!!!!!!!!!!!!!!!\tNM:i:10\tms:i:169\tAS:i:156\tnn:i:0\ttp:A:P\tcm:i:11\ts1:i:79\ts2:i:0\tde:f:0.0110\trl:i:0\n",
      "=========================\n"
     ]
    }
   ],
   "source": [
    "print(\"Before =========================\")\n",
    "subprocess.run([\"cat\", \"tests/deletion/del.sam\"])\n",
    "print(\"=========================\")"
   ]
  },
  {
   "cell_type": "code",
   "execution_count": 123,
   "id": "5b832165-6638-44cd-9409-aeabbfb7cd36",
   "metadata": {},
   "outputs": [
    {
     "name": "stdout",
     "output_type": "stream",
     "text": [
      "CS=========================\n",
      "@SQ\tSN:random_100bp\tLN:100\n",
      "@PG\tID:minimap2\tPN:minimap2\tVN:2.22-r1101\tCL:minimap2 -ax map-ont --cs tests/random_100bp.fa tests/deletion/del.fq\n",
      "control\t0\trandom_100bp\t1\t60\t100M\t*\t0\t0\tACTGTGCGGCATACTTAATTATACATTTGAAACGCGCCCAAGTGACGCTAGGCAAGTCAGAGCAGGTTCCCGTGTTAGCTTAAGGGTAAACATACAAGTC\t!!!!!!!!!!!!!!!!!!!!!!!!!!!!!!!!!!!!!!!!!!!!!!!!!!!!!!!!!!!!!!!!!!!!!!!!!!!!!!!!!!!!!!!!!!!!!!!!!!!!\tNM:i:0\tms:i:200\tAS:i:200\tnn:i:0\ttp:A:P\tcm:i:15\ts1:i:95\ts2:i:0\tde:f:0\tcs:Z::100\trl:i:0\n",
      "del-10nt\t0\trandom_100bp\t1\t60\t39M10D51M\t*\t0\t0\tACTGTGCGGCATACTTAATTATACATTTGAAACGCGCCCAGGCAAGTCAGAGCAGGTTCCCGTGTTAGCTTAAGGGTAAACATACAAGTC\t!!!!!!!!!!!!!!!!!!!!!!!!!!!!!!!!!!!!!!!!!!!!!!!!!!!!!!!!!!!!!!!!!!!!!!!!!!!!!!!!!!!!!!!!!!\tNM:i:10\tms:i:169\tAS:i:156\tnn:i:0\ttp:A:P\tcm:i:11\ts1:i:79\ts2:i:0\tde:f:0.0110\tcs:Z::39-aagtgacgct:51\trl:i:0\n",
      "=========================\n"
     ]
    }
   ],
   "source": [
    "print(\"CS=========================\")\n",
    "subprocess.run([\"cat\", \"tests/deletion/del_cs.sam\"])\n",
    "print(\"=========================\")"
   ]
  },
  {
   "cell_type": "code",
   "execution_count": 124,
   "id": "fc482d12-09ee-4ff7-b609-715bbbbe6ff9",
   "metadata": {},
   "outputs": [
    {
     "name": "stdout",
     "output_type": "stream",
     "text": [
      "CS long=========================\n",
      "@SQ\tSN:random_100bp\tLN:100\n",
      "@PG\tID:minimap2\tPN:minimap2\tVN:2.22-r1101\tCL:minimap2 -ax map-ont --cs=long tests/random_100bp.fa tests/deletion/del.fq\n",
      "control\t0\trandom_100bp\t1\t60\t100M\t*\t0\t0\tACTGTGCGGCATACTTAATTATACATTTGAAACGCGCCCAAGTGACGCTAGGCAAGTCAGAGCAGGTTCCCGTGTTAGCTTAAGGGTAAACATACAAGTC\t!!!!!!!!!!!!!!!!!!!!!!!!!!!!!!!!!!!!!!!!!!!!!!!!!!!!!!!!!!!!!!!!!!!!!!!!!!!!!!!!!!!!!!!!!!!!!!!!!!!!\tNM:i:0\tms:i:200\tAS:i:200\tnn:i:0\ttp:A:P\tcm:i:15\ts1:i:95\ts2:i:0\tde:f:0\tcs:Z:=ACTGTGCGGCATACTTAATTATACATTTGAAACGCGCCCAAGTGACGCTAGGCAAGTCAGAGCAGGTTCCCGTGTTAGCTTAAGGGTAAACATACAAGTC\trl:i:0\n",
      "del-10nt\t0\trandom_100bp\t1\t60\t39M10D51M\t*\t0\t0\tACTGTGCGGCATACTTAATTATACATTTGAAACGCGCCCAGGCAAGTCAGAGCAGGTTCCCGTGTTAGCTTAAGGGTAAACATACAAGTC\t!!!!!!!!!!!!!!!!!!!!!!!!!!!!!!!!!!!!!!!!!!!!!!!!!!!!!!!!!!!!!!!!!!!!!!!!!!!!!!!!!!!!!!!!!!\tNM:i:10\tms:i:169\tAS:i:156\tnn:i:0\ttp:A:P\tcm:i:11\ts1:i:79\ts2:i:0\tde:f:0.0110\tcs:Z:=ACTGTGCGGCATACTTAATTATACATTTGAAACGCGCCC-aagtgacgct=AGGCAAGTCAGAGCAGGTTCCCGTGTTAGCTTAAGGGTAAACATACAAGTC\trl:i:0\n",
      "=========================\n"
     ]
    }
   ],
   "source": [
    "print(\"CS long=========================\")\n",
    "subprocess.run([\"cat\", \"tests/deletion/del_cslong.sam\"])\n",
    "print(\"=========================\")"
   ]
  },
  {
   "cell_type": "markdown",
   "id": "e236ffe4-4903-4640-a160-27037dc40225",
   "metadata": {},
   "source": [
    "## parse query sam"
   ]
  },
  {
   "cell_type": "code",
   "execution_count": 9,
   "id": "8850b93f-4557-4cc2-b701-cc8e22e3228f",
   "metadata": {},
   "outputs": [],
   "source": [
    "que_sam = []\n",
    "with open(\"tests/deletion/del.sam\") as f:\n",
    "    for s in f:\n",
    "        row = s.strip()\n",
    "        que_sam.append(row)\n",
    "\n",
    "header_idx = [_.startswith(\"@\") for _ in que_sam]\n",
    "body_idx = [not _ for _ in header_idx]\n",
    "\n",
    "header = list(compress(que_sam, header_idx))\n",
    "body = list(compress(que_sam, body_idx))\n",
    "\n",
    "cigar = [s.split(\"\\t\")[5] for s in body]\n",
    "que_seq = [s.split(\"\\t\")[9] for s in body]"
   ]
  },
  {
   "cell_type": "code",
   "execution_count": 10,
   "id": "65378b0a-cdd7-430f-ac12-d692fc2637ba",
   "metadata": {},
   "outputs": [
    {
     "name": "stdout",
     "output_type": "stream",
     "text": [
      "['100M', '39M10D51M']\n",
      "['ACTGTGCGGCATACTTAATTATACATTTGAAACGCGCCCAAGTGACGCTAGGCAAGTCAGAGCAGGTTCCCGTGTTAGCTTAAGGGTAAACATACAAGTC', 'ACTGTGCGGCATACTTAATTATACATTTGAAACGCGCCCAGGCAAGTCAGAGCAGGTTCCCGTGTTAGCTTAAGGGTAAACATACAAGTC']\n"
     ]
    }
   ],
   "source": [
    "print(cigar)\n",
    "print(que_seq)"
   ]
  },
  {
   "cell_type": "markdown",
   "id": "97359965-f519-43e6-b94f-bba72b3c5f5a",
   "metadata": {},
   "source": [
    "## parce reference fasta"
   ]
  },
  {
   "cell_type": "code",
   "execution_count": 111,
   "id": "87ff8f0a-79b4-449f-83f3-3d67794809be",
   "metadata": {},
   "outputs": [],
   "source": [
    "ref_fasta = []\n",
    "with open(\"tests/random_100bp.fa\") as f:\n",
    "    for s in f:\n",
    "        row = s.strip()\n",
    "        ref_fasta.append(row)\n",
    "\n",
    "ref_seq_idx = [not _.startswith(\">\") for _ in ref_fasta]\n",
    "ref_seq = list(compress(ref_fasta, ref_seq_idx))[0]"
   ]
  },
  {
   "cell_type": "code",
   "execution_count": 112,
   "id": "369e0a0f-dd59-40eb-b74c-77db65348190",
   "metadata": {},
   "outputs": [
    {
     "name": "stdout",
     "output_type": "stream",
     "text": [
      "ACTGTGCGGCATACTTAATTATACATTTGAAACGCGCCCAAGTGACGCTAGGCAAGTCAGAGCAGGTTCCCGTGTTAGCTTAAGGGTAAACATACAAGTC\n"
     ]
    }
   ],
   "source": [
    "print(ref_seq)"
   ]
  },
  {
   "cell_type": "markdown",
   "id": "297aed69-2be8-4976-a016-e60c5fb93ea8",
   "metadata": {},
   "source": [
    "## Format CIGAR"
   ]
  },
  {
   "cell_type": "code",
   "execution_count": 126,
   "id": "7a2d9e1d-524e-4759-a717-1a47d5e0b88e",
   "metadata": {},
   "outputs": [],
   "source": [
    "def cigar_split(s):\n",
    "    group_by = 2\n",
    "    s_split = re.split(r\"(\\d+)\", s)[1:]\n",
    "    s_group_by = [s_split[i:i + group_by]\n",
    "                  for i in range(0, len(s_split), group_by)]\n",
    "    return s_group_by\n",
    "\n",
    "\n",
    "cigar = [cigar_split(s) for s in cigar]"
   ]
  },
  {
   "cell_type": "code",
   "execution_count": 127,
   "id": "f560780a-f41b-455a-8a8b-3baf9e16dd07",
   "metadata": {},
   "outputs": [
    {
     "name": "stdout",
     "output_type": "stream",
     "text": [
      "[[], []]\n"
     ]
    }
   ],
   "source": [
    "print(cigar)\n",
    "# print(int(cigar[0][0][0]) * cigar[0][0][1])\n",
    "\n",
    "# print(int(cigar[1][0][0]) * cigar[1][0][1])\n",
    "# print(int(cigar[1][1][0]) * cigar[1][1][1])\n",
    "# print(int(cigar[1][2][0]) * cigar[1][2][1])"
   ]
  },
  {
   "cell_type": "code",
   "execution_count": 68,
   "id": "e03fb068-6c81-4e73-9a2c-60d5265b60db",
   "metadata": {},
   "outputs": [],
   "source": [
    "# 高速化の余地がありそうです\n",
    "def extend_cigar(cigar): \n",
    "    extend = []\n",
    "    for each_read in cigar:\n",
    "        tmp_extend = []\n",
    "        for num, char in each_read:\n",
    "            tmp_extend.append(int(num) * char)\n",
    "        extend.append(''.join(tmp_extend))\n",
    "    return extend"
   ]
  },
  {
   "cell_type": "code",
   "execution_count": 74,
   "id": "f07e691c-a39a-40e7-b1e0-d1bc8325af12",
   "metadata": {},
   "outputs": [
    {
     "name": "stdout",
     "output_type": "stream",
     "text": [
      "CPU times: user 2 µs, sys: 1 µs, total: 3 µs\n",
      "Wall time: 3.81 µs\n"
     ]
    }
   ],
   "source": [
    "%time\n",
    "cigar = extend_cigar(cigar)"
   ]
  },
  {
   "cell_type": "code",
   "execution_count": 125,
   "id": "7ba73a36-cc46-4af6-ac8b-f9ce5b6c20ae",
   "metadata": {},
   "outputs": [
    {
     "name": "stdout",
     "output_type": "stream",
     "text": [
      "['MMMMMMMMMMMMMMMMMMMMMMMMMMMMMMMMMMMMMMMMMMMMMMMMMMMMMMMMMMMMMMMMMMMMMMMMMMMMMMMMMMMMMMMMMMMMMMMMMMMM', 'MMMMMMMMMMMMMMMMMMMMMMMMMMMMMMMMMMMMMMMDDDDDDDDDDMMMMMMMMMMMMMMMMMMMMMMMMMMMMMMMMMMMMMMMMMMMMMMMMMMM']\n"
     ]
    }
   ],
   "source": [
    "print(cigar)"
   ]
  },
  {
   "cell_type": "markdown",
   "id": "e8d6b1eb-6806-4299-8fda-eb7ab991b441",
   "metadata": {},
   "source": [
    "## Annotate indel in que_seq using CIGAR"
   ]
  },
  {
   "cell_type": "code",
   "execution_count": 81,
   "id": "1cf38d77-26ee-40ea-a017-90ff29026804",
   "metadata": {},
   "outputs": [
    {
     "name": "stdout",
     "output_type": "stream",
     "text": [
      "['ACTGTGCGGCATACTTAATTATACATTTGAAACGCGCCCAAGTGACGCTAGGCAAGTCAGAGCAGGTTCCCGTGTTAGCTTAAGGGTAAACATACAAGTC']\n",
      "['MMMMMMMMMMMMMMMMMMMMMMMMMMMMMMMMMMMMMMMMMMMMMMMMMMMMMMMMMMMMMMMMMMMMMMMMMMMMMMMMMMMMMMMMMMMMMMMMMMMM', 'MMMMMMMMMMMMMMMMMMMMMMMMMMMMMMMMMMMMMMMDDDDDDDDDDMMMMMMMMMMMMMMMMMMMMMMMMMMMMMMMMMMMMMMMMMMMMMMMMMMM']\n"
     ]
    }
   ],
   "source": [
    "print(ref_seq)\n",
    "print(cigar)"
   ]
  },
  {
   "cell_type": "code",
   "execution_count": 115,
   "id": "ff9f8d7a-29bb-46fc-acca-630d158500d8",
   "metadata": {},
   "outputs": [],
   "source": [
    "tmp_cigar = cigar[1]\n"
   ]
  },
  {
   "cell_type": "code",
   "execution_count": null,
   "id": "63c9d064-adc1-4765-9918-a6774134fbb6",
   "metadata": {},
   "outputs": [],
   "source": []
  },
  {
   "cell_type": "code",
   "execution_count": 122,
   "id": "f83be9bb-fd18-490a-aff0-f666847b11a3",
   "metadata": {},
   "outputs": [
    {
     "name": "stdout",
     "output_type": "stream",
     "text": [
      "A\n",
      "a\n",
      "A\n",
      "a\n",
      "G\n",
      "g\n",
      "T\n",
      "t\n",
      "G\n",
      "g\n",
      "A\n",
      "a\n",
      "C\n",
      "c\n",
      "G\n",
      "g\n",
      "C\n",
      "c\n",
      "T\n",
      "t\n",
      "ACTGTGCGGCATACTTAATTATACATTTGAAACGCGCCCAAGTGACGCTAGGCAAGTCAGAGCAGGTTCCCGTGTTAGCTTAAGGGTAAACATACAAGTC\n"
     ]
    }
   ],
   "source": [
    "for idx, char in enumerate(tmp_cigar):\n",
    "    tmp_ref_seq = list(ref_seq)\n",
    "    if char == \"D\":\n",
    "        print(tmp_ref_seq[idx])\n",
    "        print(tmp_ref_seq[idx].lower())\n",
    "        tmp_ref_seq[idx] = tmp_ref_seq[idx].lower()\n",
    "print(\"\".join(tmp_ref_seq))"
   ]
  },
  {
   "cell_type": "code",
   "execution_count": 110,
   "id": "c704a008-43b2-4dba-b6bb-b98aa72c0bcd",
   "metadata": {},
   "outputs": [
    {
     "name": "stdout",
     "output_type": "stream",
     "text": [
      "ACTGTGCGGCaTACTTAATTATACATTTGAAACGCGCCCAAGTGACGCTAGGCAAGTCAGAGCAGGTTCCCGTGTTAGCTTAAGGGTAAACATACAAGTC\n"
     ]
    }
   ],
   "source": [
    "s = list(tmp_ref_seq)\n",
    "s[10] = tmp_ref_seq[10].lower()\n",
    "print(\"\".join(s))"
   ]
  },
  {
   "cell_type": "markdown",
   "id": "72ab3889-ce3f-4804-9ba4-30daffb86212",
   "metadata": {},
   "source": [
    "## Annotate substitution in que_seq using reference fasta"
   ]
  },
  {
   "cell_type": "code",
   "execution_count": null,
   "id": "a61ed623-d33e-432b-b5f6-7613a29fbf76",
   "metadata": {},
   "outputs": [],
   "source": []
  },
  {
   "cell_type": "code",
   "execution_count": null,
   "id": "5481ad07-7059-4dfb-9e88-b98fd68f481d",
   "metadata": {},
   "outputs": [],
   "source": []
  }
 ],
 "metadata": {
  "kernelspec": {
   "display_name": "Python 3 (ipykernel)",
   "language": "python",
   "name": "python3"
  },
  "language_info": {
   "codemirror_mode": {
    "name": "ipython",
    "version": 3
   },
   "file_extension": ".py",
   "mimetype": "text/x-python",
   "name": "python",
   "nbconvert_exporter": "python",
   "pygments_lexer": "ipython3",
   "version": "3.8.10"
  }
 },
 "nbformat": 4,
 "nbformat_minor": 5
}
